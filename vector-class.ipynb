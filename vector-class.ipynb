{
 "cells": [
  {
   "cell_type": "code",
   "execution_count": 43,
   "metadata": {},
   "outputs": [
    {
     "name": "stdout",
     "output_type": "stream",
     "text": [
      "I cannot add two vectors with unequal lengths\n"
     ]
    },
    {
     "ename": "AttributeError",
     "evalue": "'NoneType' object has no attribute 'display'",
     "output_type": "error",
     "traceback": [
      "\u001b[0;31m---------------------------------------------------------------------------\u001b[0m",
      "\u001b[0;31mAttributeError\u001b[0m                            Traceback (most recent call last)",
      "Cell \u001b[0;32mIn[43], line 25\u001b[0m\n\u001b[1;32m     23\u001b[0m secondVector \u001b[39m=\u001b[39m Vector([\u001b[39m4\u001b[39m,\u001b[39m5\u001b[39m,\u001b[39m6\u001b[39m,\u001b[39m7\u001b[39m])\n\u001b[1;32m     24\u001b[0m newVector \u001b[39m=\u001b[39m myVector\u001b[39m+\u001b[39msecondVector\n\u001b[0;32m---> 25\u001b[0m newVector\u001b[39m.\u001b[39;49mdisplay()\n",
      "\u001b[0;31mAttributeError\u001b[0m: 'NoneType' object has no attribute 'display'"
     ]
    }
   ],
   "source": [
    "import random\n",
    "class Vector:\n",
    "    def __init__(self, values):\n",
    "        self.values = values\n",
    "        self.length = len(values)\n",
    "    def display(self):\n",
    "        print(str(self.values) + \" : \" + str(self.length))\n",
    "    def __add__(self, other):\n",
    "        if(self.length == other.length):\n",
    "            newList = []\n",
    "            for i in range(0,self.length,1):\n",
    "                newList.append(self.values[i]+other.values[i])\n",
    "            return Vector(newList)\n",
    "        else:\n",
    "            print(\"I cannot add two vectors with unequal lengths\")\n",
    "            "
   ]
  },
  {
   "cell_type": "code",
   "execution_count": 47,
   "metadata": {},
   "outputs": [
    {
     "name": "stdout",
     "output_type": "stream",
     "text": [
      "[5, 7, 9] : 3\n"
     ]
    }
   ],
   "source": [
    "# Python creates an empty object ->\n",
    "# Python calls the __init__ method with that object\n",
    "myVector = Vector([1,2,3])\n",
    "secondVector = Vector([4,5,6])\n",
    "newVector = myVector+secondVector\n",
    "newVector.display()"
   ]
  },
  {
   "cell_type": "code",
   "execution_count": 46,
   "metadata": {},
   "outputs": [
    {
     "name": "stdout",
     "output_type": "stream",
     "text": [
      "I cannot add two vectors with unequal lengths\n"
     ]
    }
   ],
   "source": [
    "myVector = Vector([1,2,3])\n",
    "secondVector = Vector([4,5,6,7])\n",
    "newVector = myVector+secondVector"
   ]
  },
  {
   "attachments": {},
   "cell_type": "markdown",
   "metadata": {},
   "source": [
    "1. Python creates our object\n",
    "2. Python calls the __init__ method, passes in self automatically and then the remainder of the parameters\n",
    "3. __init__ method is run"
   ]
  },
  {
   "cell_type": "code",
   "execution_count": 32,
   "metadata": {},
   "outputs": [
    {
     "name": "stdout",
     "output_type": "stream",
     "text": [
      "Hello, my name is: Max\n",
      "Hello, my name is: Luke\n"
     ]
    }
   ],
   "source": [
    "class User:\n",
    "    def __init__(self,name):\n",
    "        self.name = name\n",
    "    def introduce(self):\n",
    "        print(\"Hello, my name is: \" + str(self.name))\n",
    "    def change_name(self, newName):\n",
    "        self.name = newName\n",
    "\n",
    "myUser = User(\"Max\")\n",
    "myUser.introduce()\n",
    "# myUser.name = \"Luke\"\n",
    "myUser.change_name(\"Luke\")\n",
    "myUser.introduce()"
   ]
  },
  {
   "attachments": {},
   "cell_type": "markdown",
   "metadata": {},
   "source": [
    "# Git Tutorial\n",
    "## GitHub Setup\n",
    "1. Make new repository\n",
    "2. Add Remote\n",
    "\n",
    "1. Git Init\n",
    "2. Git Add\n",
    "3. Git Commit\n",
    "4. (Optional Git Push)\n",
    "5. Go back to step 2"
   ]
  }
 ],
 "metadata": {
  "kernelspec": {
   "display_name": "Python 3",
   "language": "python",
   "name": "python3"
  },
  "language_info": {
   "codemirror_mode": {
    "name": "ipython",
    "version": 3
   },
   "file_extension": ".py",
   "mimetype": "text/x-python",
   "name": "python",
   "nbconvert_exporter": "python",
   "pygments_lexer": "ipython3",
   "version": "3.11.1"
  },
  "orig_nbformat": 4
 },
 "nbformat": 4,
 "nbformat_minor": 2
}
